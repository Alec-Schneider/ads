{
 "cells": [
  {
   "cell_type": "code",
   "execution_count": 2,
   "metadata": {},
   "outputs": [],
   "source": [
    "import ads.core.streaming as streaming"
   ]
  },
  {
   "cell_type": "code",
   "execution_count": 4,
   "metadata": {},
   "outputs": [
    {
     "name": "stdout",
     "output_type": "stream",
     "text": [
      "Help on function stream_aggs in module ads.core.streaming.api:\n",
      "\n",
      "stream_aggs(paths, agg, chunksize=250, pool=None, **kwargs)\n",
      "    Credit to Max Halford (https://github.com/MaxHalford for this function)\n",
      "    would import his function, but I don't believe he added it to his xam\n",
      "    toolkit, and would not like his personal toolkit to be a dependency for\n",
      "    this package.\n",
      "    \n",
      "    paths:\n",
      "        file path\n",
      "    key:\n",
      "        key to groupby\n",
      "    agg:\n",
      "        function passed to return aggregate results\n",
      "    chunksize:\n",
      "        amount of rows to read into each chunk of data\n",
      "\n"
     ]
    }
   ],
   "source": [
    "help(streaming.stream_aggs)"
   ]
  },
  {
   "cell_type": "code",
   "execution_count": 3,
   "metadata": {},
   "outputs": [],
   "source": [
    "import multiprocessing as mp\n",
    "def agg(chunk):\n",
    "    \n",
    "    return chunk.groupby('Team').agg({'HR': ['mean', 'std'],\n",
    "                                      '2B': ['mean', 'std']})"
   ]
  },
  {
   "cell_type": "code",
   "execution_count": null,
   "metadata": {},
   "outputs": [],
   "source": []
  },
  {
   "cell_type": "code",
   "execution_count": 4,
   "metadata": {},
   "outputs": [],
   "source": [
    "nonpool = stream_aggs(r'C:\\Users\\afs95\\MyPython\\Baseball\\data\\2019\\2019Standard.csv', agg)"
   ]
  },
  {
   "cell_type": "code",
   "execution_count": 5,
   "metadata": {},
   "outputs": [
    {
     "name": "stdout",
     "output_type": "stream",
     "text": [
      "<class 'pandas.core.frame.DataFrame'>\n",
      "Index: 185 entries, - - - to Yankees\n",
      "Data columns (total 4 columns):\n",
      " #   Column      Non-Null Count  Dtype  \n",
      "---  ------      --------------  -----  \n",
      " 0   (HR, mean)  185 non-null    float64\n",
      " 1   (HR, std)   182 non-null    float64\n",
      " 2   (2B, mean)  185 non-null    float64\n",
      " 3   (2B, std)   182 non-null    float64\n",
      "dtypes: float64(4)\n",
      "memory usage: 7.2+ KB\n"
     ]
    }
   ],
   "source": [
    "nonpool.info()"
   ]
  },
  {
   "cell_type": "code",
   "execution_count": null,
   "metadata": {},
   "outputs": [],
   "source": [
    "if __name__ == '__main__':\n",
    "    import multiprocessing as mp\n",
    "    def agg(chunk):\n",
    "    \n",
    "        return chunk.groupby('Team').agg({'HR': ['mean', 'std'],\n",
    "                                      '2B': ['mean', 'std']})\n",
    "    \n",
    "    poolaggs = streaming.stream_aggs(r'C:\\Users\\afs95\\MyPython\\Baseball\\data\\2019\\2019Standard.csv', agg, pool=mp.Pool(processes=4))"
   ]
  },
  {
   "cell_type": "code",
   "execution_count": null,
   "metadata": {},
   "outputs": [],
   "source": []
  }
 ],
 "metadata": {
  "kernelspec": {
   "display_name": "Python 3",
   "language": "python",
   "name": "python3"
  },
  "language_info": {
   "codemirror_mode": {
    "name": "ipython",
    "version": 3
   },
   "file_extension": ".py",
   "mimetype": "text/x-python",
   "name": "python",
   "nbconvert_exporter": "python",
   "pygments_lexer": "ipython3",
   "version": "3.6.5"
  }
 },
 "nbformat": 4,
 "nbformat_minor": 4
}
